{
  "nbformat": 4,
  "nbformat_minor": 0,
  "metadata": {
    "colab": {
      "name": "oddschecker.ipynb",
      "version": "0.3.2",
      "provenance": []
    },
    "language_info": {
      "codemirror_mode": {
        "name": "ipython",
        "version": 3
      },
      "file_extension": ".py",
      "mimetype": "text/x-python",
      "name": "python",
      "nbconvert_exporter": "python",
      "pygments_lexer": "ipython3",
      "version": "3.6.5"
    },
    "kernelspec": {
      "display_name": "Python 3",
      "language": "python",
      "name": "python3"
    }
  },
  "cells": [
    {
      "cell_type": "markdown",
      "metadata": {
        "id": "YnhWcKwOASX0",
        "colab_type": "text"
      },
      "source": [
        "# Python - Oddschecker \n",
        "\n",
        "---\n",
        "\n",
        "### Arbitrázs a sportfogadás világában.\n",
        "\n",
        "\n",
        "\n",
        "A program célja, hogy arbitrázs lehetőségeket keressen a fogadó irodák között adott sporteseményeket vizsgálva."
      ]
    },
    {
      "cell_type": "markdown",
      "metadata": {
        "id": "0rzt91H6ASX1",
        "colab_type": "text"
      },
      "source": [
        "Importáljuk a szülséges bővítményeket"
      ]
    },
    {
      "cell_type": "code",
      "metadata": {
        "id": "KwbCsSn1ASX2",
        "colab_type": "code",
        "colab": {}
      },
      "source": [
        "import numpy\n",
        "#scraping\n",
        "from bs4 import BeautifulSoup\n",
        "\n",
        "import requests\n",
        "import random\n",
        "from fractions import Fraction"
      ],
      "execution_count": 0,
      "outputs": []
    },
    {
      "cell_type": "markdown",
      "metadata": {
        "id": "H0zuO7iCASX7",
        "colab_type": "text"
      },
      "source": [
        "#### Arbitrázs lehetőségek vizsgálata\n",
        "\n",
        "Az oddsok rögzítése"
      ]
    },
    {
      "cell_type": "code",
      "metadata": {
        "id": "76rcic9xASX8",
        "colab_type": "code",
        "colab": {}
      },
      "source": [
        "a= 2.5\n",
        "x= 5.5\n",
        "b= 9"
      ],
      "execution_count": 0,
      "outputs": []
    },
    {
      "cell_type": "markdown",
      "metadata": {
        "id": "G76OVmbaASYB",
        "colab_type": "text"
      },
      "source": [
        "A felrakott összeg rögzítése amivel szeretnénk arbitrálni"
      ]
    },
    {
      "cell_type": "code",
      "metadata": {
        "id": "988rt8bKASYC",
        "colab_type": "code",
        "colab": {}
      },
      "source": [
        "put = 100"
      ],
      "execution_count": 0,
      "outputs": []
    },
    {
      "cell_type": "code",
      "metadata": {
        "id": "LuHPlOeNASYI",
        "colab_type": "code",
        "colab": {}
      },
      "source": [
        "oddslist=[a,x, b]\n",
        "moneylist=[]"
      ],
      "execution_count": 0,
      "outputs": []
    },
    {
      "cell_type": "markdown",
      "metadata": {
        "id": "5xWdiJAhASYM",
        "colab_type": "text"
      },
      "source": [
        "Kiszámol egy ún. arbitrázskoefficienst"
      ]
    },
    {
      "cell_type": "code",
      "metadata": {
        "id": "cXZkpxGgASYN",
        "colab_type": "code",
        "outputId": "8e0027d9-b286-4460-c720-0d192a4dd27d",
        "colab": {
          "base_uri": "https://localhost:8080/",
          "height": 34
        }
      },
      "source": [
        "arbicoefficient = (numpy.reciprocal(numpy.sum(numpy.reciprocal(oddslist)))-1)\n",
        "print(arbicoefficient)"
      ],
      "execution_count": 0,
      "outputs": [
        {
          "output_type": "stream",
          "text": [
            "0.4431486880466471\n"
          ],
          "name": "stdout"
        }
      ]
    },
    {
      "cell_type": "code",
      "metadata": {
        "id": "RHA0aKVJASYU",
        "colab_type": "code",
        "outputId": "139a27ab-8a8c-4d95-a159-207cafaf1723",
        "colab": {
          "base_uri": "https://localhost:8080/",
          "height": 85
        }
      },
      "source": [
        "if arbicoefficient > 0.01:\n",
        "    for i in oddslist:\n",
        "        moneylist.append(((arbicoefficient + put) / i))\n",
        "    for i in range (0, len(oddslist)):\n",
        "        print ('Ahhoz hogy arbitrálj tegyél', moneylist[i],' összeget az', oddslist[i], ' oddsra')\n",
        "    print('profitod', ((put * (arbicoefficient+1)-put)))\n",
        "else:\n",
        "    print('Nem lehet arbitrálni!' )"
      ],
      "execution_count": 0,
      "outputs": [
        {
          "output_type": "stream",
          "text": [
            "Ahhoz hogy arbitrálj tegyél 40.17725947521866  összeget az 2.5  oddsra\n",
            "Ahhoz hogy arbitrálj tegyél 18.262390670553938  összeget az 5.5  oddsra\n",
            "Ahhoz hogy arbitrálj tegyél 11.160349854227405  összeget az 9  oddsra\n",
            "profitod 44.31486880466471\n"
          ],
          "name": "stdout"
        }
      ]
    },
    {
      "cell_type": "markdown",
      "metadata": {
        "id": "smt5QaPOASYZ",
        "colab_type": "text"
      },
      "source": [
        "#### Az fogadó irodák vizsgálata"
      ]
    },
    {
      "cell_type": "code",
      "metadata": {
        "id": "AXqQy7fNASYa",
        "colab_type": "code",
        "colab": {}
      },
      "source": [
        "USER_AGENTS = [\n",
        "    # Chrome\n",
        "    'Mozilla/5.0 (Windows NT 6.2; Win64; x64) AppleWebKit/537.36 (KHTML, like Gecko) Chrome/32.0.1667.0 Safari/537.36',\n",
        "    # Firefox\n",
        "    'Mozilla/5.0 (Windows NT 6.1; Win64; x64; rv:25.0) Gecko/20100101 Firefox/25.0',\n",
        "    # Opera\n",
        "    'Opera/9.80 (Windows NT 6.0) Presto/2.12.388 Version/12.14',\n",
        "    # Safari\n",
        "    'Mozilla/5.0 (iPad; CPU OS 6_0 like Mac OS X) AppleWebKit/536.26 (KHTML, like Gecko) Version/6.0 Mobile/10A5355d Safari/8536.25',\n",
        "    # Internet Explorer, probably a good idea to leave this one out...\n",
        "    'Mozilla/5.0 (compatible; MSIE 10.6; Windows NT 6.1; Trident/5.0; InfoPath.2; SLCC1; .NET CLR 3.0.4506.2152; .NET CLR 3.5.30729; .NET CLR 2.0.50727) 3gpp-gba UNTRUSTED/1.0',\n",
        "]"
      ],
      "execution_count": 0,
      "outputs": []
    },
    {
      "cell_type": "code",
      "metadata": {
        "id": "rCWvynR6ASYe",
        "colab_type": "code",
        "colab": {}
      },
      "source": [
        "def get_header(agents):\n",
        "    return {'User-agent': random.choice(agents)}"
      ],
      "execution_count": 0,
      "outputs": []
    },
    {
      "cell_type": "markdown",
      "metadata": {
        "id": "jqTvpQvrASYi",
        "colab_type": "text"
      },
      "source": [
        "Az oldal letöltése"
      ]
    },
    {
      "cell_type": "code",
      "metadata": {
        "id": "p6CYsBXtASYj",
        "colab_type": "code",
        "colab": {}
      },
      "source": [
        "re = requests.get('https://www.oddschecker.com/football', headers=get_header(USER_AGENTS))\n",
        "soup = BeautifulSoup(re.content, 'html.parser')"
      ],
      "execution_count": 0,
      "outputs": []
    },
    {
      "cell_type": "markdown",
      "metadata": {
        "id": "1cOdv2O2ASYp",
        "colab_type": "text"
      },
      "source": [
        "Az oddsok kikeresés a participant-name class atribútumból majd rendezés"
      ]
    },
    {
      "cell_type": "code",
      "metadata": {
        "id": "0CVnfafMASYr",
        "colab_type": "code",
        "outputId": "1db2ba4f-e9bc-4173-cf0d-8f8b3ee0450e",
        "colab": {
          "base_uri": "https://localhost:8080/",
          "height": 323
        }
      },
      "source": [
        "odds1=[]       \n",
        "for odd in soup.find_all('p', {'class': 'participant-name'}):\n",
        "    number = round(float(Fraction(odd.find('span').get_text())+1),2)                 #from fractions import Fraction\n",
        "                                                                            #a = Fraction(odds[0])\n",
        "    odds1.append(number)\n",
        "\n",
        "odds2=[]\n",
        "for i in range(0,(len(odds1)-3),3):\n",
        "    a =  odds1[i]\n",
        "    b = odds1[i+1]\n",
        "    c = odds1[i+2]\n",
        "    odds2.append([a, b, c ])\n",
        "odds2"
      ],
      "execution_count": 0,
      "outputs": [
        {
          "output_type": "execute_result",
          "data": {
            "text/plain": [
              "[[2.9, 3.5, 2.6],\n",
              " [2.88, 3.45, 2.5],\n",
              " [1.76, 4.0, 5.05],\n",
              " [2.7, 3.4, 2.7],\n",
              " [2.65, 3.45, 2.75],\n",
              " [26.0, 13.0, 1.11],\n",
              " [3.0, 3.85, 2.35],\n",
              " [3.8, 3.9, 2.0],\n",
              " [1.53, 5.0, 6.0],\n",
              " [7.5, 5.25, 1.44],\n",
              " [2.65, 3.75, 2.55],\n",
              " [1.21, 7.5, 17.0],\n",
              " [1.69, 4.4, 5.25],\n",
              " [3.8, 4.1, 1.91],\n",
              " [2.3, 3.3, 3.7],\n",
              " [1.76, 4.15, 4.75],\n",
              " [1.73, 4.2, 4.5],\n",
              " [3.28, 3.6, 2.25]]"
            ]
          },
          "metadata": {
            "tags": []
          },
          "execution_count": 20
        }
      ]
    },
    {
      "cell_type": "markdown",
      "metadata": {
        "id": "a9ChuzpgASYy",
        "colab_type": "text"
      },
      "source": [
        "Csapatok kikeresése"
      ]
    },
    {
      "cell_type": "code",
      "metadata": {
        "id": "1iTsLJ_LASY0",
        "colab_type": "code",
        "colab": {}
      },
      "source": [
        "teams1=[]  \n",
        "teams2=[]\n",
        "for team in soup.find_all('td', {'class': 'all-odds-click'}):\n",
        "    for tea in team.find_all('p'):\n",
        "        te = tea.get_text()           \n",
        "        teams1.append(te)\n",
        "        \n",
        "for i in range(0,(len(odds1)-3),3):\n",
        "    a =  teams1[i]\n",
        "    b = teams1[i+1]\n",
        "    c = teams1[i+2]\n",
        "    teams2.append([a, b, c ])\n",
        "    print( a, b , c)\n",
        "teams2"
      ],
      "execution_count": 0,
      "outputs": []
    },
    {
      "cell_type": "markdown",
      "metadata": {
        "id": "lQol5toTASY9",
        "colab_type": "text"
      },
      "source": [
        "Arbitrálási lehetőségek keresése, amennyibenn található ilyen."
      ]
    },
    {
      "cell_type": "code",
      "metadata": {
        "id": "fTr_l7L_ASY-",
        "colab_type": "code",
        "colab": {}
      },
      "source": [
        "put = 100\n",
        "szám = 1\n",
        "\n",
        "for i,x in zip(odds2,teams2):\n",
        "    oddsls=[]\n",
        "    moneyls=[]\n",
        "    \n",
        "    oddsls.append(i[0])\n",
        "    oddsls.append(i[1])\n",
        "    oddsls.append(i[2])\n",
        "    \n",
        "    arbicoefficient = (numpy.reciprocal(numpy.sum(numpy.reciprocal(oddsls)))-1)\n",
        "    \n",
        "    if arbicoefficient > 0:\n",
        "        print('Arbitrázs lehetőség van a ', x[1][:-5], '-',x[2][:-5],\" mérkőzésen:\") \n",
        "        for a in oddsls:\n",
        "            moneyls.append(((arbicoefficient + put) / a))\n",
        "        for b in range (0, len(oddsls)):\n",
        "            print ('  Tegyél', round(moneyls[b], 2) ,' összeget az', oddsls[b], ' oddsra')\n",
        "        print('       profitod', round((put * (arbicoefficient+1)-put), 2))\n",
        "\n",
        "    szám = szám+1\n",
        "\n"
      ],
      "execution_count": 0,
      "outputs": []
    }
  ]
}